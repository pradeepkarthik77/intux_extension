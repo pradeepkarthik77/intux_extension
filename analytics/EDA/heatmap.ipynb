{
 "cells": [
  {
   "cell_type": "code",
   "execution_count": 7,
   "metadata": {},
   "outputs": [
    {
     "name": "stdout",
     "output_type": "stream",
     "text": [
      "Empty DataFrame\n",
      "Columns: [_id_click, timestamp, x_click, y_click, rollNo_click, normalizedTimestamp_click, normalizedX_click, normalizedY_click, _id_gaze, x_gaze, y_gaze, rollNo_gaze, normalizedTimestamp_gaze, normalizedX_gaze, normalizedY_gaze]\n",
      "Index: []\n",
      "Correlation Matrix:\n",
      "         x_click  y_click  x_gaze  y_gaze\n",
      "x_click      NaN      NaN     NaN     NaN\n",
      "y_click      NaN      NaN     NaN     NaN\n",
      "x_gaze       NaN      NaN     NaN     NaN\n",
      "y_gaze       NaN      NaN     NaN     NaN\n",
      "Correlation between x_click and x_gaze: nan\n",
      "Correlation between x_click and y_gaze: nan\n",
      "Correlation between y_click and x_gaze: nan\n",
      "Correlation between y_click and y_gaze: nan\n"
     ]
    }
   ],
   "source": [
    "import pandas as pd\n",
    "from pymongo import MongoClient\n",
    "\n",
    "# Connect to MongoDB\n",
    "client = MongoClient('mongodb://localhost:27017/')\n",
    "db = client['INTUX']\n",
    "\n",
    "# Query click data for a specific user\n",
    "click_data_cursor = db['ClickData'].find({'rollNo': 'CB.EN.U4CSE20447'}).sort('timestamp')\n",
    "click_df = pd.DataFrame(list(click_data_cursor))\n",
    "\n",
    "# Query gaze data for the same user\n",
    "gaze_data_cursor = db['GazeData'].find({'rollNo': 'CB.EN.U4CSE20447'}).sort('timestamp')\n",
    "gaze_df = pd.DataFrame(list(gaze_data_cursor))\n",
    "\n",
    "# Merge dataframes on timestamp \n",
    "merged_df = pd.merge(click_df, gaze_df, on='timestamp', how='inner', suffixes=('_click', '_gaze'))\n",
    "\n",
    "# Compute correlation matrix\n",
    "correlation_matrix = merged_df[['x_click', 'y_click', 'x_gaze', 'y_gaze']].corr()\n",
    "\n",
    "# Print correlation matrix\n",
    "print(\"Correlation Matrix:\")\n",
    "print(correlation_matrix)\n",
    "\n",
    "# Extract insights based on correlation values\n",
    "for click_column in ['x_click', 'y_click']:\n",
    "    for gaze_column in ['x_gaze', 'y_gaze']:\n",
    "        corr_value = correlation_matrix[click_column][gaze_column]\n",
    "        print(f\"Correlation between {click_column} and {gaze_column}: {corr_value}\")\n",
    "\n",
    "# Close MongoDB connection\n",
    "client.close()\n"
   ]
  }
 ],
 "metadata": {
  "kernelspec": {
   "display_name": "Python 3",
   "language": "python",
   "name": "python3"
  },
  "language_info": {
   "codemirror_mode": {
    "name": "ipython",
    "version": 3
   },
   "file_extension": ".py",
   "mimetype": "text/x-python",
   "name": "python",
   "nbconvert_exporter": "python",
   "pygments_lexer": "ipython3",
   "version": "3.9.13"
  }
 },
 "nbformat": 4,
 "nbformat_minor": 2
}
